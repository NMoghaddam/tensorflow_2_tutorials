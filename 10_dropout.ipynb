{
 "cells": [
  {
   "cell_type": "code",
   "execution_count": 1,
   "metadata": {},
   "outputs": [],
   "source": [
    "import tensorflow as tf\n",
    "from tensorflow import keras"
   ]
  },
  {
   "cell_type": "code",
   "execution_count": 2,
   "metadata": {},
   "outputs": [],
   "source": [
    "(train_images, train_labels),(test_images, test_labels) = keras.datasets.fashion_mnist.load_data()\n",
    "train_images = train_images /  255.0\n",
    "test_images = test_images / 255.0\n",
    "validation_images = train_images[:5000]\n",
    "validation_labels = train_labels[:5000]"
   ]
  },
  {
   "cell_type": "code",
   "execution_count": 3,
   "metadata": {},
   "outputs": [],
   "source": [
    "class CustomModel(keras.Model):\n",
    "    def __init__(self, **kwargs):\n",
    "        super().__init__(**kwargs)\n",
    "        self.input_layer = keras.layers.Flatten(input_shape=(28,28))\n",
    "        self.hidden1 = keras.layers.Dense(200, activation='relu')\n",
    "        self.hidden2 = keras.layers.Dense(100, activation='relu')\n",
    "        self.hidden3 = keras.layers.Dense(60, activation='relu')\n",
    "        self.output_layer = keras.layers.Dense(10, activation='softmax')\n",
    "        self.dropout_layer = keras.layers.Dropout(rate=0.2)\n",
    "    \n",
    "    def call(self, input):\n",
    "        input_layer = self.input_layer(input)\n",
    "        input_layer = self.dropout_layer(input_layer)\n",
    "        hidden1 = self.hidden1(input_layer)\n",
    "        hidden1 = self.dropout_layer(hidden1)\n",
    "        hidden2 = self.hidden2(hidden1)\n",
    "        hidden2 = self.dropout_layer(hidden2)\n",
    "        hidden3 = self.hidden3(hidden2)\n",
    "        hidden3 = self.dropout_layer(hidden3)\n",
    "        output_layer = self.output_layer(hidden3)\n",
    "        return output_layer"
   ]
  },
  {
   "cell_type": "code",
   "execution_count": 4,
   "metadata": {},
   "outputs": [],
   "source": [
    "model = CustomModel()\n",
    "sgd = keras.optimizers.SGD(lr=0.01)\n",
    "model.compile(loss=\"sparse_categorical_crossentropy\", optimizer=sgd, metrics=[\"accuracy\"])"
   ]
  },
  {
   "cell_type": "code",
   "execution_count": 5,
   "metadata": {},
   "outputs": [
    {
     "name": "stdout",
     "output_type": "stream",
     "text": [
      "Train on 60000 samples, validate on 5000 samples\n",
      "Epoch 1/60\n",
      "60000/60000 [==============================] - 5s 78us/sample - loss: 1.0577 - accuracy: 0.6056 - val_loss: 0.5945 - val_accuracy: 0.7846\n",
      "Epoch 2/60\n",
      "60000/60000 [==============================] - 4s 68us/sample - loss: 0.6876 - accuracy: 0.7504 - val_loss: 0.4959 - val_accuracy: 0.8242\n",
      "Epoch 3/60\n",
      "60000/60000 [==============================] - 4s 68us/sample - loss: 0.6104 - accuracy: 0.7812 - val_loss: 0.4539 - val_accuracy: 0.8386\n",
      "Epoch 4/60\n",
      "60000/60000 [==============================] - 4s 70us/sample - loss: 0.5632 - accuracy: 0.7993 - val_loss: 0.4288 - val_accuracy: 0.8428\n",
      "Epoch 5/60\n",
      "60000/60000 [==============================] - 4s 72us/sample - loss: 0.5389 - accuracy: 0.8086 - val_loss: 0.4070 - val_accuracy: 0.8522\n",
      "Epoch 6/60\n",
      "60000/60000 [==============================] - 5s 76us/sample - loss: 0.5135 - accuracy: 0.8170 - val_loss: 0.3921 - val_accuracy: 0.8588\n",
      "Epoch 7/60\n",
      "60000/60000 [==============================] - 5s 79us/sample - loss: 0.5008 - accuracy: 0.8212 - val_loss: 0.3887 - val_accuracy: 0.8610\n",
      "Epoch 8/60\n",
      "60000/60000 [==============================] - 5s 82us/sample - loss: 0.4860 - accuracy: 0.8257 - val_loss: 0.3671 - val_accuracy: 0.8702\n",
      "Epoch 9/60\n",
      "60000/60000 [==============================] - 4s 70us/sample - loss: 0.4751 - accuracy: 0.8288 - val_loss: 0.3596 - val_accuracy: 0.8722\n",
      "Epoch 10/60\n",
      "60000/60000 [==============================] - 4s 67us/sample - loss: 0.4635 - accuracy: 0.8331 - val_loss: 0.3548 - val_accuracy: 0.8752\n",
      "Epoch 11/60\n",
      "60000/60000 [==============================] - 4s 67us/sample - loss: 0.4567 - accuracy: 0.8364 - val_loss: 0.3501 - val_accuracy: 0.8772\n",
      "Epoch 12/60\n",
      "60000/60000 [==============================] - 4s 67us/sample - loss: 0.4481 - accuracy: 0.8389 - val_loss: 0.3400 - val_accuracy: 0.8800\n",
      "Epoch 13/60\n",
      "60000/60000 [==============================] - 4s 71us/sample - loss: 0.4428 - accuracy: 0.8413 - val_loss: 0.3344 - val_accuracy: 0.8816\n",
      "Epoch 14/60\n",
      "60000/60000 [==============================] - 4s 68us/sample - loss: 0.4345 - accuracy: 0.8436 - val_loss: 0.3288 - val_accuracy: 0.8816\n",
      "Epoch 15/60\n",
      "60000/60000 [==============================] - 4s 72us/sample - loss: 0.4316 - accuracy: 0.8451 - val_loss: 0.3289 - val_accuracy: 0.8846\n",
      "Epoch 16/60\n",
      "60000/60000 [==============================] - 4s 71us/sample - loss: 0.4283 - accuracy: 0.8446 - val_loss: 0.3218 - val_accuracy: 0.8816\n",
      "Epoch 17/60\n",
      "60000/60000 [==============================] - 4s 74us/sample - loss: 0.4221 - accuracy: 0.8474 - val_loss: 0.3202 - val_accuracy: 0.8884\n",
      "Epoch 18/60\n",
      "60000/60000 [==============================] - 5s 77us/sample - loss: 0.4135 - accuracy: 0.8489 - val_loss: 0.3179 - val_accuracy: 0.8854\n",
      "Epoch 19/60\n",
      "60000/60000 [==============================] - 5s 79us/sample - loss: 0.4106 - accuracy: 0.8507 - val_loss: 0.3138 - val_accuracy: 0.8860\n",
      "Epoch 20/60\n",
      "60000/60000 [==============================] - 4s 73us/sample - loss: 0.4060 - accuracy: 0.8538 - val_loss: 0.3119 - val_accuracy: 0.8868\n",
      "Epoch 21/60\n",
      "60000/60000 [==============================] - 4s 72us/sample - loss: 0.4029 - accuracy: 0.8532 - val_loss: 0.3082 - val_accuracy: 0.8894\n",
      "Epoch 22/60\n",
      "60000/60000 [==============================] - 4s 70us/sample - loss: 0.4013 - accuracy: 0.8535 - val_loss: 0.3060 - val_accuracy: 0.8900\n",
      "Epoch 23/60\n",
      "60000/60000 [==============================] - 4s 70us/sample - loss: 0.3963 - accuracy: 0.8557 - val_loss: 0.2984 - val_accuracy: 0.8906\n",
      "Epoch 24/60\n",
      "60000/60000 [==============================] - 4s 68us/sample - loss: 0.3934 - accuracy: 0.8588 - val_loss: 0.2976 - val_accuracy: 0.8898\n",
      "Epoch 25/60\n",
      "60000/60000 [==============================] - 4s 69us/sample - loss: 0.3879 - accuracy: 0.8594 - val_loss: 0.2971 - val_accuracy: 0.8916\n",
      "Epoch 26/60\n",
      "60000/60000 [==============================] - 4s 73us/sample - loss: 0.3869 - accuracy: 0.8589 - val_loss: 0.2965 - val_accuracy: 0.8906\n",
      "Epoch 27/60\n",
      "60000/60000 [==============================] - 5s 75us/sample - loss: 0.3839 - accuracy: 0.8612 - val_loss: 0.2903 - val_accuracy: 0.8970\n",
      "Epoch 28/60\n",
      "60000/60000 [==============================] - 4s 74us/sample - loss: 0.3787 - accuracy: 0.8630 - val_loss: 0.2863 - val_accuracy: 0.8964\n",
      "Epoch 29/60\n",
      "60000/60000 [==============================] - 4s 71us/sample - loss: 0.3766 - accuracy: 0.8642 - val_loss: 0.2836 - val_accuracy: 0.8944\n",
      "Epoch 30/60\n",
      "60000/60000 [==============================] - 4s 72us/sample - loss: 0.3785 - accuracy: 0.8626 - val_loss: 0.2833 - val_accuracy: 0.8942\n",
      "Epoch 31/60\n",
      "60000/60000 [==============================] - 4s 73us/sample - loss: 0.3731 - accuracy: 0.8636 - val_loss: 0.2812 - val_accuracy: 0.8990\n",
      "Epoch 32/60\n",
      "60000/60000 [==============================] - 4s 73us/sample - loss: 0.3742 - accuracy: 0.8640 - val_loss: 0.2823 - val_accuracy: 0.8948\n",
      "Epoch 33/60\n",
      "60000/60000 [==============================] - 4s 72us/sample - loss: 0.3692 - accuracy: 0.8658 - val_loss: 0.2856 - val_accuracy: 0.8928\n",
      "Epoch 34/60\n",
      "60000/60000 [==============================] - 4s 71us/sample - loss: 0.3685 - accuracy: 0.8661 - val_loss: 0.2817 - val_accuracy: 0.8976\n",
      "Epoch 35/60\n",
      "60000/60000 [==============================] - 4s 72us/sample - loss: 0.3670 - accuracy: 0.8666 - val_loss: 0.2733 - val_accuracy: 0.9008\n",
      "Epoch 36/60\n",
      "60000/60000 [==============================] - 4s 70us/sample - loss: 0.3638 - accuracy: 0.8688 - val_loss: 0.2744 - val_accuracy: 0.9000\n",
      "Epoch 37/60\n",
      "60000/60000 [==============================] - 4s 74us/sample - loss: 0.3621 - accuracy: 0.8684 - val_loss: 0.2697 - val_accuracy: 0.8984\n",
      "Epoch 38/60\n",
      "60000/60000 [==============================] - 4s 72us/sample - loss: 0.3606 - accuracy: 0.8683 - val_loss: 0.2688 - val_accuracy: 0.9000\n",
      "Epoch 39/60\n",
      "60000/60000 [==============================] - 4s 70us/sample - loss: 0.3538 - accuracy: 0.8706 - val_loss: 0.2686 - val_accuracy: 0.8982\n",
      "Epoch 40/60\n",
      "60000/60000 [==============================] - 4s 73us/sample - loss: 0.3564 - accuracy: 0.8698 - val_loss: 0.2661 - val_accuracy: 0.9026\n",
      "Epoch 41/60\n",
      "60000/60000 [==============================] - 5s 76us/sample - loss: 0.3518 - accuracy: 0.8716 - val_loss: 0.2665 - val_accuracy: 0.9018\n",
      "Epoch 42/60\n",
      "60000/60000 [==============================] - 4s 68us/sample - loss: 0.3539 - accuracy: 0.8703 - val_loss: 0.2614 - val_accuracy: 0.9044\n",
      "Epoch 43/60\n",
      "60000/60000 [==============================] - 4s 70us/sample - loss: 0.3510 - accuracy: 0.8719 - val_loss: 0.2641 - val_accuracy: 0.9014\n",
      "Epoch 44/60\n",
      "60000/60000 [==============================] - 4s 71us/sample - loss: 0.3486 - accuracy: 0.8721 - val_loss: 0.2640 - val_accuracy: 0.9010\n",
      "Epoch 45/60\n",
      "60000/60000 [==============================] - 4s 70us/sample - loss: 0.3450 - accuracy: 0.8738 - val_loss: 0.2603 - val_accuracy: 0.9064\n",
      "Epoch 46/60\n",
      "60000/60000 [==============================] - 4s 73us/sample - loss: 0.3444 - accuracy: 0.8753 - val_loss: 0.2561 - val_accuracy: 0.9044\n",
      "Epoch 47/60\n",
      "60000/60000 [==============================] - 4s 72us/sample - loss: 0.3435 - accuracy: 0.8742 - val_loss: 0.2555 - val_accuracy: 0.9062\n",
      "Epoch 48/60\n",
      "60000/60000 [==============================] - 4s 71us/sample - loss: 0.3416 - accuracy: 0.8747 - val_loss: 0.2550 - val_accuracy: 0.9044\n",
      "Epoch 49/60\n",
      "60000/60000 [==============================] - 4s 72us/sample - loss: 0.3415 - accuracy: 0.8750 - val_loss: 0.2569 - val_accuracy: 0.9078\n",
      "Epoch 50/60\n",
      "60000/60000 [==============================] - 4s 70us/sample - loss: 0.3378 - accuracy: 0.8757 - val_loss: 0.2496 - val_accuracy: 0.9078\n",
      "Epoch 51/60\n",
      "60000/60000 [==============================] - 5s 75us/sample - loss: 0.3403 - accuracy: 0.8760 - val_loss: 0.2501 - val_accuracy: 0.9062\n",
      "Epoch 52/60\n",
      "60000/60000 [==============================] - 4s 75us/sample - loss: 0.3338 - accuracy: 0.8771 - val_loss: 0.2498 - val_accuracy: 0.9066\n",
      "Epoch 53/60\n",
      "60000/60000 [==============================] - 4s 70us/sample - loss: 0.3349 - accuracy: 0.8784 - val_loss: 0.2499 - val_accuracy: 0.9072\n",
      "Epoch 54/60\n",
      "60000/60000 [==============================] - 4s 72us/sample - loss: 0.3347 - accuracy: 0.8776 - val_loss: 0.2458 - val_accuracy: 0.9086\n",
      "Epoch 55/60\n",
      "60000/60000 [==============================] - 4s 72us/sample - loss: 0.3322 - accuracy: 0.8776 - val_loss: 0.2462 - val_accuracy: 0.9084\n",
      "Epoch 56/60\n",
      "60000/60000 [==============================] - 4s 73us/sample - loss: 0.3294 - accuracy: 0.8791 - val_loss: 0.2463 - val_accuracy: 0.9076\n",
      "Epoch 57/60\n",
      "60000/60000 [==============================] - 4s 72us/sample - loss: 0.3330 - accuracy: 0.8779 - val_loss: 0.2470 - val_accuracy: 0.9062\n",
      "Epoch 58/60\n",
      "60000/60000 [==============================] - 4s 72us/sample - loss: 0.3287 - accuracy: 0.8797 - val_loss: 0.2404 - val_accuracy: 0.9112\n",
      "Epoch 59/60\n",
      "60000/60000 [==============================] - 4s 73us/sample - loss: 0.3263 - accuracy: 0.8801 - val_loss: 0.2435 - val_accuracy: 0.9080\n",
      "Epoch 60/60\n",
      "60000/60000 [==============================] - 4s 73us/sample - loss: 0.3272 - accuracy: 0.8788 - val_loss: 0.2395 - val_accuracy: 0.9084\n"
     ]
    },
    {
     "data": {
      "text/plain": [
       "<tensorflow.python.keras.callbacks.History at 0x180b1d3e408>"
      ]
     },
     "execution_count": 5,
     "metadata": {},
     "output_type": "execute_result"
    }
   ],
   "source": [
    "model.fit(train_images, train_labels, epochs=60, validation_data=(validation_images, validation_labels))"
   ]
  },
  {
   "cell_type": "code",
   "execution_count": 6,
   "metadata": {},
   "outputs": [
    {
     "name": "stdout",
     "output_type": "stream",
     "text": [
      "10000/10000 [==============================] - 0s 34us/sample - loss: 0.3230 - accuracy: 0.8812\n"
     ]
    },
    {
     "data": {
      "text/plain": [
       "[0.32301584649085996, 0.8812]"
      ]
     },
     "execution_count": 6,
     "metadata": {},
     "output_type": "execute_result"
    }
   ],
   "source": [
    "model.evaluate(test_images, test_labels)"
   ]
  },
  {
   "cell_type": "code",
   "execution_count": null,
   "metadata": {},
   "outputs": [],
   "source": []
  }
 ],
 "metadata": {
  "kernelspec": {
   "display_name": "Python 3",
   "language": "python",
   "name": "python3"
  },
  "language_info": {
   "codemirror_mode": {
    "name": "ipython",
    "version": 3
   },
   "file_extension": ".py",
   "mimetype": "text/x-python",
   "name": "python",
   "nbconvert_exporter": "python",
   "pygments_lexer": "ipython3",
   "version": "3.7.6"
  }
 },
 "nbformat": 4,
 "nbformat_minor": 4
}
